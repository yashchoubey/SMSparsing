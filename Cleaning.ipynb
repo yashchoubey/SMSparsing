{
 "cells": [
  {
   "cell_type": "code",
   "execution_count": 1,
   "metadata": {},
   "outputs": [
    {
     "data": {
      "text/html": [
       "<div>\n",
       "<style scoped>\n",
       "    .dataframe tbody tr th:only-of-type {\n",
       "        vertical-align: middle;\n",
       "    }\n",
       "\n",
       "    .dataframe tbody tr th {\n",
       "        vertical-align: top;\n",
       "    }\n",
       "\n",
       "    .dataframe thead th {\n",
       "        text-align: right;\n",
       "    }\n",
       "</style>\n",
       "<table border=\"1\" class=\"dataframe\">\n",
       "  <thead>\n",
       "    <tr style=\"text-align: right;\">\n",
       "      <th></th>\n",
       "      <th>sender,sms</th>\n",
       "      <th>Unnamed: 1</th>\n",
       "    </tr>\n",
       "  </thead>\n",
       "  <tbody>\n",
       "    <tr>\n",
       "      <th>0</th>\n",
       "      <td>IK-IDEA,DATA_CHRG:0.00 INR,Bal_Left=0.00 INR,V...</td>\n",
       "      <td>NaN</td>\n",
       "    </tr>\n",
       "    <tr>\n",
       "      <th>1</th>\n",
       "      <td>TX-GROFRS,Your Grofers order ORD096963480 has ...</td>\n",
       "      <td>NaN</td>\n",
       "    </tr>\n",
       "    <tr>\n",
       "      <th>2</th>\n",
       "      <td>ID-IDEA,CHRG:,main_cost Rs 0.000,Free Vol:0,VO...</td>\n",
       "      <td>NaN</td>\n",
       "    </tr>\n",
       "    <tr>\n",
       "      <th>3</th>\n",
       "      <td>BW-AxisBk,Hello! Your A/c no. 411263 has been ...</td>\n",
       "      <td>NaN</td>\n",
       "    </tr>\n",
       "    <tr>\n",
       "      <th>4</th>\n",
       "      <td>BW-AxisBk,Hello! Your A/c no. 411263 has been ...</td>\n",
       "      <td>NaN</td>\n",
       "    </tr>\n",
       "  </tbody>\n",
       "</table>\n",
       "</div>"
      ],
      "text/plain": [
       "                                          sender,sms Unnamed: 1\n",
       "0  IK-IDEA,DATA_CHRG:0.00 INR,Bal_Left=0.00 INR,V...        NaN\n",
       "1  TX-GROFRS,Your Grofers order ORD096963480 has ...        NaN\n",
       "2  ID-IDEA,CHRG:,main_cost Rs 0.000,Free Vol:0,VO...        NaN\n",
       "3  BW-AxisBk,Hello! Your A/c no. 411263 has been ...        NaN\n",
       "4  BW-AxisBk,Hello! Your A/c no. 411263 has been ...        NaN"
      ]
     },
     "execution_count": 1,
     "metadata": {},
     "output_type": "execute_result"
    }
   ],
   "source": [
    "import pandas as pd\n",
    "\n",
    "# data = pd.read_csv('smsdata.csv')\n",
    "df = pd.read_fwf('/home/yash/github/smsdata.txt')\n",
    "df.head()"
   ]
  },
  {
   "cell_type": "code",
   "execution_count": 2,
   "metadata": {},
   "outputs": [
    {
     "data": {
      "text/html": [
       "<div>\n",
       "<style scoped>\n",
       "    .dataframe tbody tr th:only-of-type {\n",
       "        vertical-align: middle;\n",
       "    }\n",
       "\n",
       "    .dataframe tbody tr th {\n",
       "        vertical-align: top;\n",
       "    }\n",
       "\n",
       "    .dataframe thead th {\n",
       "        text-align: right;\n",
       "    }\n",
       "</style>\n",
       "<table border=\"1\" class=\"dataframe\">\n",
       "  <thead>\n",
       "    <tr style=\"text-align: right;\">\n",
       "      <th></th>\n",
       "      <th>sms</th>\n",
       "      <th>serviceProvider</th>\n",
       "      <th>company</th>\n",
       "    </tr>\n",
       "  </thead>\n",
       "  <tbody>\n",
       "    <tr>\n",
       "      <th>0</th>\n",
       "      <td>DATA_CHRG:0.00 INR,Bal_Left=0.00 INR,Vol_Used:...</td>\n",
       "      <td>IK</td>\n",
       "      <td>IDEA</td>\n",
       "    </tr>\n",
       "    <tr>\n",
       "      <th>1</th>\n",
       "      <td>Your Grofers order ORD096963480 has been accep...</td>\n",
       "      <td>TX</td>\n",
       "      <td>GROFRS</td>\n",
       "    </tr>\n",
       "    <tr>\n",
       "      <th>2</th>\n",
       "      <td>CHRG:,main_cost Rs 0.000,Free Vol:0,VOL:2460.5...</td>\n",
       "      <td>ID</td>\n",
       "      <td>IDEA</td>\n",
       "    </tr>\n",
       "    <tr>\n",
       "      <th>3</th>\n",
       "      <td>Hello! Your A/c no. 411263 has been credited w...</td>\n",
       "      <td>BW</td>\n",
       "      <td>AxisBk</td>\n",
       "    </tr>\n",
       "    <tr>\n",
       "      <th>4</th>\n",
       "      <td>Hello! Your A/c no. 411263 has been credited w...</td>\n",
       "      <td>BW</td>\n",
       "      <td>AxisBk</td>\n",
       "    </tr>\n",
       "  </tbody>\n",
       "</table>\n",
       "</div>"
      ],
      "text/plain": [
       "                                                 sms serviceProvider company\n",
       "0  DATA_CHRG:0.00 INR,Bal_Left=0.00 INR,Vol_Used:...              IK    IDEA\n",
       "1  Your Grofers order ORD096963480 has been accep...              TX  GROFRS\n",
       "2  CHRG:,main_cost Rs 0.000,Free Vol:0,VOL:2460.5...              ID    IDEA\n",
       "3  Hello! Your A/c no. 411263 has been credited w...              BW  AxisBk\n",
       "4  Hello! Your A/c no. 411263 has been credited w...              BW  AxisBk"
      ]
     },
     "execution_count": 2,
     "metadata": {},
     "output_type": "execute_result"
    }
   ],
   "source": [
    "df['sender'], df['sms'] = df['sender,sms'].str.split(',', 1).str\n",
    "df['serviceProvider'], df['company'] = df['sender'].str.split('-', 1).str\n",
    "df=df.drop(['sender,sms','sender','Unnamed: 1'],axis=1)\n",
    "df.head()\n"
   ]
  },
  {
   "cell_type": "code",
   "execution_count": 3,
   "metadata": {},
   "outputs": [
    {
     "name": "stdout",
     "output_type": "stream",
     "text": [
      "                                                      sms serviceProvider  \\\n",
      "999995  Arin Chowdhury,Kelvin Patel has a question for...        AMMGCBRK   \n",
      "999996  Arin Chowdhury,Shree narasimha has a question ...        AMMGCBRK   \n",
      "999997  Arin Chowdhury,Venugopal Rao Basuti has a ques...        AMMGCBRK   \n",
      "999998  Arin Chowdhury,Pehal has a question for your p...        AMMGCBRK   \n",
      "999999  Arin Chowdhury,Bhaagyalakshmi Subramani has a ...        AMMGCBRK   \n",
      "\n",
      "       company  \n",
      "999995     NaN  \n",
      "999996     NaN  \n",
      "999997     NaN  \n",
      "999998     NaN  \n",
      "999999     NaN  \n",
      "                                                 sms serviceProvider company\n",
      "0  DATA_CHRG:0.00 INR,Bal_Left=0.00 INR,Vol_Used:...              IK    IDEA\n",
      "1  Your Grofers order ORD096963480 has been accep...              TX  GROFRS\n",
      "2  CHRG:,main_cost Rs 0.000,Free Vol:0,VOL:2460.5...              ID    IDEA\n",
      "3  Hello! Your A/c no. 411263 has been credited w...              BW  AxisBk\n",
      "4  Hello! Your A/c no. 411263 has been credited w...              BW  AxisBk\n",
      "                                                      sms serviceProvider  \\\n",
      "999995  Arin Chowdhury,Kelvin Patel has a question for...        AMMGCBRK   \n",
      "999996  Arin Chowdhury,Shree narasimha has a question ...        AMMGCBRK   \n",
      "999997  Arin Chowdhury,Venugopal Rao Basuti has a ques...        AMMGCBRK   \n",
      "999998  Arin Chowdhury,Pehal has a question for your p...        AMMGCBRK   \n",
      "999999  Arin Chowdhury,Bhaagyalakshmi Subramani has a ...        AMMGCBRK   \n",
      "\n",
      "       company  \n",
      "999995  MGCBRK  \n",
      "999996  MGCBRK  \n",
      "999997  MGCBRK  \n",
      "999998  MGCBRK  \n",
      "999999  MGCBRK  \n"
     ]
    }
   ],
   "source": [
    "df.shape\n",
    "print df.tail(5)\n",
    "# df.company=df.company.fillna(df.serviceProvider[2:])\n",
    "# df.company=df.company[-4:]\n",
    "# for row in df.iterrows():\n",
    "#     if not row[1][2]:\n",
    "#         row[1][2]=row[1][1][2:]\n",
    "#         row[1][1]=row[1][1][:1]\n",
    "df.company=df.company.fillna(df.serviceProvider[2:])\n",
    "df.company=df.company.apply(lambda x: x[-6:] if len(x)>6 else x)\n",
    "# df.company=df[df.serviceProvider[2:] if df.company.isnull() else df.company]\n",
    "# if df.company.isnull():\n",
    "#     df.company=df.serviceProvider[2:]\n",
    "print df.head()\n",
    "print df.tail(5)"
   ]
  },
  {
   "cell_type": "code",
   "execution_count": 4,
   "metadata": {},
   "outputs": [
    {
     "name": "stdout",
     "output_type": "stream",
     "text": [
      "(15179,)\n",
      "(20904,)\n"
     ]
    }
   ],
   "source": [
    "print df.serviceProvider.unique().shape\n",
    "print df.company.unique().shape\n",
    "companyList= df.company.unique()"
   ]
  },
  {
   "cell_type": "code",
   "execution_count": 5,
   "metadata": {},
   "outputs": [],
   "source": [
    "#https://www.quora.com/What-is-the-meaning-of-DM-TA-LM-DZ-MD-etc-in-the-name-of-bulk-sms-sender\n"
   ]
  },
  {
   "cell_type": "code",
   "execution_count": 6,
   "metadata": {},
   "outputs": [],
   "source": [
    "newlist=[]\n",
    "\n",
    "import re\n",
    "for x in companyList:\n",
    "    if x:\n",
    "        #print x\n",
    "        if x.isdigit():\n",
    "            newlist.append(x)\n",
    "        "
   ]
  },
  {
   "cell_type": "code",
   "execution_count": 7,
   "metadata": {},
   "outputs": [
    {
     "data": {
      "text/plain": [
       "6802"
      ]
     },
     "execution_count": 7,
     "metadata": {},
     "output_type": "execute_result"
    }
   ],
   "source": [
    "len(newlist)"
   ]
  },
  {
   "cell_type": "code",
   "execution_count": 8,
   "metadata": {},
   "outputs": [
    {
     "data": {
      "text/plain": [
       "False"
      ]
     },
     "execution_count": 8,
     "metadata": {},
     "output_type": "execute_result"
    }
   ],
   "source": [
    "df.isnull().values.any()"
   ]
  },
  {
   "cell_type": "code",
   "execution_count": 9,
   "metadata": {},
   "outputs": [],
   "source": [
    "#removing ads from the list\n",
    "df = df[~df['company'].isin(newlist)]"
   ]
  },
  {
   "cell_type": "code",
   "execution_count": 10,
   "metadata": {},
   "outputs": [
    {
     "name": "stdout",
     "output_type": "stream",
     "text": [
      "(14102,)\n"
     ]
    }
   ],
   "source": [
    "print df.company.unique().shape"
   ]
  },
  {
   "cell_type": "code",
   "execution_count": 11,
   "metadata": {},
   "outputs": [
    {
     "data": {
      "text/plain": [
       "company\n",
       "JioPay    78645\n",
       "IDEA      54215\n",
       "VFCARE    36707\n",
       "HDFCBK    27707\n",
       "ICICIB    16433\n",
       "AxisBk    15780\n",
       "PHONPE    13706\n",
       "iPaytm    13206\n",
       "IPAYTM    12522\n",
       "KOTAKB    10988\n",
       "JIONET    10343\n",
       "Amazon     8673\n",
       "BAJAJF     8602\n",
       "ATMSBI     8182\n",
       "MOBIKW     7663\n",
       "BajajF     7097\n",
       "SBICRD     6938\n",
       "FLPKRT     6456\n",
       "JIOINF     6448\n",
       "CBSSBI     6304\n",
       "JioSvc     5858\n",
       "SBIINB     5145\n",
       "SBIUPI     4995\n",
       "charge     4924\n",
       "CITIBK     4869\n",
       "PNBSMS     4867\n",
       "TFAROT     4817\n",
       "AIRBNK     4795\n",
       "PAYTMB     4743\n",
       "PAYZAP     4663\n",
       "          ...  \n",
       "PLOTLT        1\n",
       "FUDATU        1\n",
       "PLOTIN        1\n",
       "PLOTCH        1\n",
       "PLOTAF        1\n",
       "FULJOY        1\n",
       "FUNDAM        1\n",
       "FSTTME        1\n",
       "PMAWAS        1\n",
       "PMawas        1\n",
       "FSDHRY        1\n",
       "FROMWP        1\n",
       "PMYOJA        1\n",
       "FRSHTM        1\n",
       "FRSHUP        1\n",
       "FRSTSP        1\n",
       "PMYFLT        1\n",
       "PMSPRO        1\n",
       "FSAREE        1\n",
       "FSFAdm        1\n",
       "PMCARE        1\n",
       "PMSMAX        1\n",
       "PMRPYI        1\n",
       "PMKKWL        1\n",
       "FSRLTY        1\n",
       "PMITRA        1\n",
       "PMGNAY        1\n",
       "PMCPRD        1\n",
       "FSTCTY        1\n",
       " 2-Let        1\n",
       "Name: sms, Length: 14102, dtype: int64"
      ]
     },
     "execution_count": 11,
     "metadata": {},
     "output_type": "execute_result"
    }
   ],
   "source": [
    "df.groupby(df['company'])['sms'].count().sort_values(ascending=False)"
   ]
  },
  {
   "cell_type": "code",
   "execution_count": 12,
   "metadata": {},
   "outputs": [
    {
     "data": {
      "text/plain": [
       "248       AxisBK\n",
       "348       IPRUMF\n",
       "378       VFCARE\n",
       "413       DishTV\n",
       "416       HDFCBK\n",
       "527       HDFCBK\n",
       "574       DishTV\n",
       "619       ADHAAR\n",
       "706         IDEA\n",
       "737         IDEA\n",
       "900       HDFCBK\n",
       "903       EPFOHO\n",
       "997       HDFCBK\n",
       "1004      TaxSml\n",
       "1006      TaxSml\n",
       "1011      HDFCBK\n",
       "1054        idea\n",
       "1068      DishTV\n",
       "1077      ITDEFL\n",
       "1081      DishTV\n",
       "1095      EPFOHO\n",
       "1114      DishTV\n",
       "1122      HDFCBK\n",
       "1129      DishTV\n",
       "1171      DishTV\n",
       "1180        idea\n",
       "1856      BPFund\n",
       "1871      UPPCLT\n",
       "1873      BAJAJF\n",
       "1887      FICCLT\n",
       "           ...  \n",
       "997133    HATHWY\n",
       "997267    IPRUMF\n",
       "997546    FedBnk\n",
       "997582    ABCINV\n",
       "997827    ABCINV\n",
       "997924    ABCINV\n",
       "998063    ABCINV\n",
       "998227    ABCINV\n",
       "998364    ABCINV\n",
       "998555    BSLAMC\n",
       "998872    BESCOM\n",
       "998873    BESCOM\n",
       "998874    BESCOM\n",
       "999213    BAJAJF\n",
       "999214    BAJAJF\n",
       "999247    BAJAJF\n",
       "999248    BAJAJF\n",
       "999512    BAJAJF\n",
       "999513    BAJAJF\n",
       "999575    BAJAJF\n",
       "999579    BAJAJF\n",
       "999691    AxisBk\n",
       "999712    IFBCRM\n",
       "999727    MSILDL\n",
       "999742    AxisBk\n",
       "999852    BAJAJF\n",
       "999858    BAJAJF\n",
       "999868    BAJAJF\n",
       "999872    BAJAJF\n",
       "999965    iPaytm\n",
       "Name: company, Length: 16531, dtype: object"
      ]
     },
     "execution_count": 12,
     "metadata": {},
     "output_type": "execute_result"
    }
   ],
   "source": [
    "ndf=df[df['sms'].str.contains(\" due \")]\n",
    "ndf.shape\n",
    "ndf.company"
   ]
  },
  {
   "cell_type": "code",
   "execution_count": null,
   "metadata": {},
   "outputs": [],
   "source": []
  },
  {
   "cell_type": "code",
   "execution_count": null,
   "metadata": {},
   "outputs": [],
   "source": []
  },
  {
   "cell_type": "code",
   "execution_count": null,
   "metadata": {},
   "outputs": [],
   "source": []
  },
  {
   "cell_type": "code",
   "execution_count": null,
   "metadata": {},
   "outputs": [],
   "source": []
  },
  {
   "cell_type": "code",
   "execution_count": null,
   "metadata": {},
   "outputs": [],
   "source": []
  },
  {
   "cell_type": "code",
   "execution_count": null,
   "metadata": {},
   "outputs": [],
   "source": []
  },
  {
   "cell_type": "code",
   "execution_count": null,
   "metadata": {},
   "outputs": [],
   "source": []
  },
  {
   "cell_type": "code",
   "execution_count": null,
   "metadata": {},
   "outputs": [],
   "source": []
  },
  {
   "cell_type": "code",
   "execution_count": null,
   "metadata": {},
   "outputs": [],
   "source": []
  },
  {
   "cell_type": "code",
   "execution_count": null,
   "metadata": {},
   "outputs": [],
   "source": []
  },
  {
   "cell_type": "code",
   "execution_count": null,
   "metadata": {},
   "outputs": [],
   "source": []
  }
 ],
 "metadata": {
  "kernelspec": {
   "display_name": "Python 2",
   "language": "python",
   "name": "python2"
  },
  "language_info": {
   "codemirror_mode": {
    "name": "ipython",
    "version": 2
   },
   "file_extension": ".py",
   "mimetype": "text/x-python",
   "name": "python",
   "nbconvert_exporter": "python",
   "pygments_lexer": "ipython2",
   "version": "2.7.12"
  }
 },
 "nbformat": 4,
 "nbformat_minor": 2
}
