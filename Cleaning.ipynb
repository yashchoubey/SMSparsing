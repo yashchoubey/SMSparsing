{
 "cells": [
  {
   "cell_type": "code",
   "execution_count": 1,
   "metadata": {},
   "outputs": [
    {
     "data": {
      "text/html": [
       "<div>\n",
       "<style scoped>\n",
       "    .dataframe tbody tr th:only-of-type {\n",
       "        vertical-align: middle;\n",
       "    }\n",
       "\n",
       "    .dataframe tbody tr th {\n",
       "        vertical-align: top;\n",
       "    }\n",
       "\n",
       "    .dataframe thead th {\n",
       "        text-align: right;\n",
       "    }\n",
       "</style>\n",
       "<table border=\"1\" class=\"dataframe\">\n",
       "  <thead>\n",
       "    <tr style=\"text-align: right;\">\n",
       "      <th></th>\n",
       "      <th>sender,sms</th>\n",
       "      <th>Unnamed: 1</th>\n",
       "    </tr>\n",
       "  </thead>\n",
       "  <tbody>\n",
       "    <tr>\n",
       "      <th>0</th>\n",
       "      <td>IK-IDEA,DATA_CHRG:0.00 INR,Bal_Left=0.00 INR,V...</td>\n",
       "      <td>NaN</td>\n",
       "    </tr>\n",
       "    <tr>\n",
       "      <th>1</th>\n",
       "      <td>TX-GROFRS,Your Grofers order ORD096963480 has ...</td>\n",
       "      <td>NaN</td>\n",
       "    </tr>\n",
       "    <tr>\n",
       "      <th>2</th>\n",
       "      <td>ID-IDEA,CHRG:,main_cost Rs 0.000,Free Vol:0,VO...</td>\n",
       "      <td>NaN</td>\n",
       "    </tr>\n",
       "    <tr>\n",
       "      <th>3</th>\n",
       "      <td>BW-AxisBk,Hello! Your A/c no. 411263 has been ...</td>\n",
       "      <td>NaN</td>\n",
       "    </tr>\n",
       "    <tr>\n",
       "      <th>4</th>\n",
       "      <td>BW-AxisBk,Hello! Your A/c no. 411263 has been ...</td>\n",
       "      <td>NaN</td>\n",
       "    </tr>\n",
       "  </tbody>\n",
       "</table>\n",
       "</div>"
      ],
      "text/plain": [
       "                                          sender,sms Unnamed: 1\n",
       "0  IK-IDEA,DATA_CHRG:0.00 INR,Bal_Left=0.00 INR,V...        NaN\n",
       "1  TX-GROFRS,Your Grofers order ORD096963480 has ...        NaN\n",
       "2  ID-IDEA,CHRG:,main_cost Rs 0.000,Free Vol:0,VO...        NaN\n",
       "3  BW-AxisBk,Hello! Your A/c no. 411263 has been ...        NaN\n",
       "4  BW-AxisBk,Hello! Your A/c no. 411263 has been ...        NaN"
      ]
     },
     "execution_count": 1,
     "metadata": {},
     "output_type": "execute_result"
    }
   ],
   "source": [
    "import pandas as pd\n",
    "\n",
    "# data = pd.read_csv('smsdata.csv')\n",
    "df = pd.read_fwf('smsdata.txt')\n",
    "df.head()\n"
   ]
  },
  {
   "cell_type": "code",
   "execution_count": 2,
   "metadata": {},
   "outputs": [
    {
     "data": {
      "text/html": [
       "<div>\n",
       "<style scoped>\n",
       "    .dataframe tbody tr th:only-of-type {\n",
       "        vertical-align: middle;\n",
       "    }\n",
       "\n",
       "    .dataframe tbody tr th {\n",
       "        vertical-align: top;\n",
       "    }\n",
       "\n",
       "    .dataframe thead th {\n",
       "        text-align: right;\n",
       "    }\n",
       "</style>\n",
       "<table border=\"1\" class=\"dataframe\">\n",
       "  <thead>\n",
       "    <tr style=\"text-align: right;\">\n",
       "      <th></th>\n",
       "      <th>sms</th>\n",
       "      <th>serviceProvider</th>\n",
       "      <th>company</th>\n",
       "    </tr>\n",
       "  </thead>\n",
       "  <tbody>\n",
       "    <tr>\n",
       "      <th>0</th>\n",
       "      <td>DATA_CHRG:0.00 INR,Bal_Left=0.00 INR,Vol_Used:...</td>\n",
       "      <td>IK</td>\n",
       "      <td>IDEA</td>\n",
       "    </tr>\n",
       "    <tr>\n",
       "      <th>1</th>\n",
       "      <td>Your Grofers order ORD096963480 has been accep...</td>\n",
       "      <td>TX</td>\n",
       "      <td>GROFRS</td>\n",
       "    </tr>\n",
       "    <tr>\n",
       "      <th>2</th>\n",
       "      <td>CHRG:,main_cost Rs 0.000,Free Vol:0,VOL:2460.5...</td>\n",
       "      <td>ID</td>\n",
       "      <td>IDEA</td>\n",
       "    </tr>\n",
       "    <tr>\n",
       "      <th>3</th>\n",
       "      <td>Hello! Your A/c no. 411263 has been credited w...</td>\n",
       "      <td>BW</td>\n",
       "      <td>AxisBk</td>\n",
       "    </tr>\n",
       "    <tr>\n",
       "      <th>4</th>\n",
       "      <td>Hello! Your A/c no. 411263 has been credited w...</td>\n",
       "      <td>BW</td>\n",
       "      <td>AxisBk</td>\n",
       "    </tr>\n",
       "  </tbody>\n",
       "</table>\n",
       "</div>"
      ],
      "text/plain": [
       "                                                 sms serviceProvider company\n",
       "0  DATA_CHRG:0.00 INR,Bal_Left=0.00 INR,Vol_Used:...              IK    IDEA\n",
       "1  Your Grofers order ORD096963480 has been accep...              TX  GROFRS\n",
       "2  CHRG:,main_cost Rs 0.000,Free Vol:0,VOL:2460.5...              ID    IDEA\n",
       "3  Hello! Your A/c no. 411263 has been credited w...              BW  AxisBk\n",
       "4  Hello! Your A/c no. 411263 has been credited w...              BW  AxisBk"
      ]
     },
     "execution_count": 2,
     "metadata": {},
     "output_type": "execute_result"
    }
   ],
   "source": [
    "df['sender'], df['sms'] = df['sender,sms'].str.split(',', 1).str\n",
    "df['serviceProvider'], df['company'] = df['sender'].str.split('-', 1).str\n",
    "df=df.drop(['sender,sms','sender','Unnamed: 1'],axis=1)\n",
    "df.head()"
   ]
  },
  {
   "cell_type": "code",
   "execution_count": 18,
   "metadata": {},
   "outputs": [
    {
     "name": "stdout",
     "output_type": "stream",
     "text": [
      "                                                      sms serviceProvider  \\\n",
      "999995  Arin Chowdhury,Kelvin Patel has a question for...        AMMGCBRK   \n",
      "999996  Arin Chowdhury,Shree narasimha has a question ...        AMMGCBRK   \n",
      "999997  Arin Chowdhury,Venugopal Rao Basuti has a ques...        AMMGCBRK   \n",
      "999998  Arin Chowdhury,Pehal has a question for your p...        AMMGCBRK   \n",
      "999999  Arin Chowdhury,Bhaagyalakshmi Subramani has a ...        AMMGCBRK   \n",
      "\n",
      "       company  \n",
      "999995     NaN  \n",
      "999996     NaN  \n",
      "999997     NaN  \n",
      "999998     NaN  \n",
      "999999     NaN  \n"
     ]
    },
    {
     "ename": "ValueError",
     "evalue": "The truth value of a Series is ambiguous. Use a.empty, a.bool(), a.item(), a.any() or a.all().",
     "output_type": "error",
     "traceback": [
      "\u001b[0;31m---------------------------------------------------------------------------\u001b[0m",
      "\u001b[0;31mValueError\u001b[0m                                Traceback (most recent call last)",
      "\u001b[0;32m<ipython-input-18-0c8baaf6e5c8>\u001b[0m in \u001b[0;36m<module>\u001b[0;34m()\u001b[0m\n\u001b[1;32m      7\u001b[0m \u001b[0;31m#         row[1][2]=row[1][1][2:]\u001b[0m\u001b[0;34m\u001b[0m\u001b[0;34m\u001b[0m\u001b[0m\n\u001b[1;32m      8\u001b[0m \u001b[0;31m#         row[1][1]=row[1][1][:1]\u001b[0m\u001b[0;34m\u001b[0m\u001b[0;34m\u001b[0m\u001b[0m\n\u001b[0;32m----> 9\u001b[0;31m \u001b[0mdf\u001b[0m\u001b[0;34m.\u001b[0m\u001b[0mcompany\u001b[0m\u001b[0;34m=\u001b[0m\u001b[0mdf\u001b[0m\u001b[0;34m[\u001b[0m\u001b[0mdf\u001b[0m\u001b[0;34m.\u001b[0m\u001b[0mserviceProvider\u001b[0m\u001b[0;34m[\u001b[0m\u001b[0;36m2\u001b[0m\u001b[0;34m:\u001b[0m\u001b[0;34m]\u001b[0m \u001b[0;32mif\u001b[0m \u001b[0mdf\u001b[0m\u001b[0;34m.\u001b[0m\u001b[0mcompany\u001b[0m\u001b[0;34m.\u001b[0m\u001b[0misnull\u001b[0m\u001b[0;34m(\u001b[0m\u001b[0;34m)\u001b[0m \u001b[0;32melse\u001b[0m \u001b[0mdf\u001b[0m\u001b[0;34m.\u001b[0m\u001b[0mcompany\u001b[0m\u001b[0;34m]\u001b[0m\u001b[0;34m\u001b[0m\u001b[0m\n\u001b[0m\u001b[1;32m     10\u001b[0m \u001b[0;31m# if df.company.isnull():\u001b[0m\u001b[0;34m\u001b[0m\u001b[0;34m\u001b[0m\u001b[0m\n\u001b[1;32m     11\u001b[0m \u001b[0;31m#     df.company=df.serviceProvider[2:]\u001b[0m\u001b[0;34m\u001b[0m\u001b[0;34m\u001b[0m\u001b[0m\n",
      "\u001b[0;32m/usr/local/lib/python2.7/dist-packages/pandas/core/generic.pyc\u001b[0m in \u001b[0;36m__nonzero__\u001b[0;34m(self)\u001b[0m\n\u001b[1;32m   1119\u001b[0m         raise ValueError(\"The truth value of a {0} is ambiguous. \"\n\u001b[1;32m   1120\u001b[0m                          \u001b[0;34m\"Use a.empty, a.bool(), a.item(), a.any() or a.all().\"\u001b[0m\u001b[0;34m\u001b[0m\u001b[0m\n\u001b[0;32m-> 1121\u001b[0;31m                          .format(self.__class__.__name__))\n\u001b[0m\u001b[1;32m   1122\u001b[0m \u001b[0;34m\u001b[0m\u001b[0m\n\u001b[1;32m   1123\u001b[0m     \u001b[0m__bool__\u001b[0m \u001b[0;34m=\u001b[0m \u001b[0m__nonzero__\u001b[0m\u001b[0;34m\u001b[0m\u001b[0m\n",
      "\u001b[0;31mValueError\u001b[0m: The truth value of a Series is ambiguous. Use a.empty, a.bool(), a.item(), a.any() or a.all()."
     ]
    }
   ],
   "source": [
    "df.shape\n",
    "print df.tail(5)\n",
    "# df.company=df.company.fillna(df.serviceProvider[2:])\n",
    "# df.company=df.company[-4:]\n",
    "# for row in df.iterrows():\n",
    "#     if not row[1][2]:\n",
    "#         row[1][2]=row[1][1][2:]\n",
    "#         row[1][1]=row[1][1][:1]\n",
    "df.company=df[df.serviceProvider[2:] if df.company.isnull() else df.company]\n",
    "# if df.company.isnull():\n",
    "#     df.company=df.serviceProvider[2:]\n",
    "print df.head()\n",
    "print df.tail(5)"
   ]
  },
  {
   "cell_type": "code",
   "execution_count": 16,
   "metadata": {},
   "outputs": [
    {
     "name": "stdout",
     "output_type": "stream",
     "text": [
      "(15179,)\n"
     ]
    }
   ],
   "source": [
    "print df.serviceProvider.unique().shape\n",
    "companyList= df.company.unique()"
   ]
  },
  {
   "cell_type": "code",
   "execution_count": 17,
   "metadata": {},
   "outputs": [],
   "source": [
    "#https://www.quora.com/What-is-the-meaning-of-DM-TA-LM-DZ-MD-etc-in-the-name-of-bulk-sms-sender\n"
   ]
  },
  {
   "cell_type": "code",
   "execution_count": 26,
   "metadata": {},
   "outputs": [],
   "source": [
    "newlist=[]\n",
    "\n",
    "\n",
    "import re\n",
    "for x in companyList:\n",
    "    if x:\n",
    "        #print x\n",
    "        if x.isdigit():\n",
    "            newlist.append(x)\n",
    "        "
   ]
  },
  {
   "cell_type": "code",
   "execution_count": 25,
   "metadata": {},
   "outputs": [
    {
     "data": {
      "text/plain": [
       "0"
      ]
     },
     "execution_count": 25,
     "metadata": {},
     "output_type": "execute_result"
    }
   ],
   "source": [
    "len(newlist)"
   ]
  },
  {
   "cell_type": "code",
   "execution_count": 27,
   "metadata": {},
   "outputs": [
    {
     "data": {
      "text/plain": [
       "True"
      ]
     },
     "execution_count": 27,
     "metadata": {},
     "output_type": "execute_result"
    }
   ],
   "source": [
    "df.isnull().values.any()"
   ]
  },
  {
   "cell_type": "code",
   "execution_count": null,
   "metadata": {},
   "outputs": [],
   "source": [
    "print df.loc[]"
   ]
  }
 ],
 "metadata": {
  "kernelspec": {
   "display_name": "Python 2",
   "language": "python",
   "name": "python2"
  },
  "language_info": {
   "codemirror_mode": {
    "name": "ipython",
    "version": 2
   },
   "file_extension": ".py",
   "mimetype": "text/x-python",
   "name": "python",
   "nbconvert_exporter": "python",
   "pygments_lexer": "ipython2",
   "version": "2.7.12"
  }
 },
 "nbformat": 4,
 "nbformat_minor": 2
}
