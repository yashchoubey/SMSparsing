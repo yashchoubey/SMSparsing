{
 "cells": [
  {
   "cell_type": "code",
   "execution_count": 1,
   "metadata": {},
   "outputs": [
    {
     "data": {
      "text/html": [
       "<div>\n",
       "<style scoped>\n",
       "    .dataframe tbody tr th:only-of-type {\n",
       "        vertical-align: middle;\n",
       "    }\n",
       "\n",
       "    .dataframe tbody tr th {\n",
       "        vertical-align: top;\n",
       "    }\n",
       "\n",
       "    .dataframe thead th {\n",
       "        text-align: right;\n",
       "    }\n",
       "</style>\n",
       "<table border=\"1\" class=\"dataframe\">\n",
       "  <thead>\n",
       "    <tr style=\"text-align: right;\">\n",
       "      <th></th>\n",
       "      <th>sender,sms</th>\n",
       "      <th>Unnamed: 1</th>\n",
       "    </tr>\n",
       "  </thead>\n",
       "  <tbody>\n",
       "    <tr>\n",
       "      <th>0</th>\n",
       "      <td>IK-IDEA,DATA_CHRG:0.00 INR,Bal_Left=0.00 INR,V...</td>\n",
       "      <td>NaN</td>\n",
       "    </tr>\n",
       "    <tr>\n",
       "      <th>1</th>\n",
       "      <td>TX-GROFRS,Your Grofers order ORD096963480 has ...</td>\n",
       "      <td>NaN</td>\n",
       "    </tr>\n",
       "    <tr>\n",
       "      <th>2</th>\n",
       "      <td>ID-IDEA,CHRG:,main_cost Rs 0.000,Free Vol:0,VO...</td>\n",
       "      <td>NaN</td>\n",
       "    </tr>\n",
       "    <tr>\n",
       "      <th>3</th>\n",
       "      <td>BW-AxisBk,Hello! Your A/c no. 411263 has been ...</td>\n",
       "      <td>NaN</td>\n",
       "    </tr>\n",
       "    <tr>\n",
       "      <th>4</th>\n",
       "      <td>BW-AxisBk,Hello! Your A/c no. 411263 has been ...</td>\n",
       "      <td>NaN</td>\n",
       "    </tr>\n",
       "  </tbody>\n",
       "</table>\n",
       "</div>"
      ],
      "text/plain": [
       "                                          sender,sms Unnamed: 1\n",
       "0  IK-IDEA,DATA_CHRG:0.00 INR,Bal_Left=0.00 INR,V...        NaN\n",
       "1  TX-GROFRS,Your Grofers order ORD096963480 has ...        NaN\n",
       "2  ID-IDEA,CHRG:,main_cost Rs 0.000,Free Vol:0,VO...        NaN\n",
       "3  BW-AxisBk,Hello! Your A/c no. 411263 has been ...        NaN\n",
       "4  BW-AxisBk,Hello! Your A/c no. 411263 has been ...        NaN"
      ]
     },
     "execution_count": 1,
     "metadata": {},
     "output_type": "execute_result"
    }
   ],
   "source": [
    "import pandas as pd\n",
    "\n",
    "# data = pd.read_csv('smsdata.csv')\n",
    "df = pd.read_fwf('/home/yash/github/smsdata.txt')\n",
    "df.head()"
   ]
  },
  {
   "cell_type": "code",
   "execution_count": 2,
   "metadata": {},
   "outputs": [
    {
     "data": {
      "text/html": [
       "<div>\n",
       "<style scoped>\n",
       "    .dataframe tbody tr th:only-of-type {\n",
       "        vertical-align: middle;\n",
       "    }\n",
       "\n",
       "    .dataframe tbody tr th {\n",
       "        vertical-align: top;\n",
       "    }\n",
       "\n",
       "    .dataframe thead th {\n",
       "        text-align: right;\n",
       "    }\n",
       "</style>\n",
       "<table border=\"1\" class=\"dataframe\">\n",
       "  <thead>\n",
       "    <tr style=\"text-align: right;\">\n",
       "      <th></th>\n",
       "      <th>sms</th>\n",
       "      <th>serviceProvider</th>\n",
       "      <th>company</th>\n",
       "    </tr>\n",
       "  </thead>\n",
       "  <tbody>\n",
       "    <tr>\n",
       "      <th>0</th>\n",
       "      <td>DATA_CHRG:0.00 INR,Bal_Left=0.00 INR,Vol_Used:...</td>\n",
       "      <td>IK</td>\n",
       "      <td>IDEA</td>\n",
       "    </tr>\n",
       "    <tr>\n",
       "      <th>1</th>\n",
       "      <td>Your Grofers order ORD096963480 has been accep...</td>\n",
       "      <td>TX</td>\n",
       "      <td>GROFRS</td>\n",
       "    </tr>\n",
       "    <tr>\n",
       "      <th>2</th>\n",
       "      <td>CHRG:,main_cost Rs 0.000,Free Vol:0,VOL:2460.5...</td>\n",
       "      <td>ID</td>\n",
       "      <td>IDEA</td>\n",
       "    </tr>\n",
       "    <tr>\n",
       "      <th>3</th>\n",
       "      <td>Hello! Your A/c no. 411263 has been credited w...</td>\n",
       "      <td>BW</td>\n",
       "      <td>AxisBk</td>\n",
       "    </tr>\n",
       "    <tr>\n",
       "      <th>4</th>\n",
       "      <td>Hello! Your A/c no. 411263 has been credited w...</td>\n",
       "      <td>BW</td>\n",
       "      <td>AxisBk</td>\n",
       "    </tr>\n",
       "  </tbody>\n",
       "</table>\n",
       "</div>"
      ],
      "text/plain": [
       "                                                 sms serviceProvider company\n",
       "0  DATA_CHRG:0.00 INR,Bal_Left=0.00 INR,Vol_Used:...              IK    IDEA\n",
       "1  Your Grofers order ORD096963480 has been accep...              TX  GROFRS\n",
       "2  CHRG:,main_cost Rs 0.000,Free Vol:0,VOL:2460.5...              ID    IDEA\n",
       "3  Hello! Your A/c no. 411263 has been credited w...              BW  AxisBk\n",
       "4  Hello! Your A/c no. 411263 has been credited w...              BW  AxisBk"
      ]
     },
     "execution_count": 2,
     "metadata": {},
     "output_type": "execute_result"
    }
   ],
   "source": [
    "df['sender'], df['sms'] = df['sender,sms'].str.split(',', 1).str\n",
    "df['serviceProvider'], df['company'] = df['sender'].str.split('-', 1).str\n",
    "df=df.drop(['sender,sms','sender','Unnamed: 1'],axis=1)\n",
    "df.head()\n"
   ]
  },
  {
   "cell_type": "code",
   "execution_count": 3,
   "metadata": {},
   "outputs": [
    {
     "name": "stdout",
     "output_type": "stream",
     "text": [
      "                                                      sms serviceProvider  \\\n",
      "999995  Arin Chowdhury,Kelvin Patel has a question for...        AMMGCBRK   \n",
      "999996  Arin Chowdhury,Shree narasimha has a question ...        AMMGCBRK   \n",
      "999997  Arin Chowdhury,Venugopal Rao Basuti has a ques...        AMMGCBRK   \n",
      "999998  Arin Chowdhury,Pehal has a question for your p...        AMMGCBRK   \n",
      "999999  Arin Chowdhury,Bhaagyalakshmi Subramani has a ...        AMMGCBRK   \n",
      "\n",
      "       company  \n",
      "999995     NaN  \n",
      "999996     NaN  \n",
      "999997     NaN  \n",
      "999998     NaN  \n",
      "999999     NaN  \n",
      "                                                 sms serviceProvider company\n",
      "0  DATA_CHRG:0.00 INR,Bal_Left=0.00 INR,Vol_Used:...              IK    IDEA\n",
      "1  Your Grofers order ORD096963480 has been accep...              TX  GROFRS\n",
      "2  CHRG:,main_cost Rs 0.000,Free Vol:0,VOL:2460.5...              ID    IDEA\n",
      "3  Hello! Your A/c no. 411263 has been credited w...              BW  AxisBk\n",
      "4  Hello! Your A/c no. 411263 has been credited w...              BW  AxisBk\n",
      "                                                      sms serviceProvider  \\\n",
      "999995  Arin Chowdhury,Kelvin Patel has a question for...        AMMGCBRK   \n",
      "999996  Arin Chowdhury,Shree narasimha has a question ...        AMMGCBRK   \n",
      "999997  Arin Chowdhury,Venugopal Rao Basuti has a ques...        AMMGCBRK   \n",
      "999998  Arin Chowdhury,Pehal has a question for your p...        AMMGCBRK   \n",
      "999999  Arin Chowdhury,Bhaagyalakshmi Subramani has a ...        AMMGCBRK   \n",
      "\n",
      "       company  \n",
      "999995  MGCBRK  \n",
      "999996  MGCBRK  \n",
      "999997  MGCBRK  \n",
      "999998  MGCBRK  \n",
      "999999  MGCBRK  \n"
     ]
    }
   ],
   "source": [
    "df.shape\n",
    "print df.tail(5)\n",
    "# df.company=df.company.fillna(df.serviceProvider[2:])\n",
    "# df.company=df.company[-4:]\n",
    "# for row in df.iterrows():\n",
    "#     if not row[1][2]:\n",
    "#         row[1][2]=row[1][1][2:]\n",
    "#         row[1][1]=row[1][1][:1]\n",
    "df.company=df.company.fillna(df.serviceProvider[2:])\n",
    "df.company=df.company.apply(lambda x: x[-6:] if len(x)>6 else x)\n",
    "# df.company=df[df.serviceProvider[2:] if df.company.isnull() else df.company]\n",
    "# if df.company.isnull():\n",
    "#     df.company=df.serviceProvider[2:]\n",
    "print df.head()\n",
    "print df.tail(5)"
   ]
  },
  {
   "cell_type": "code",
   "execution_count": 4,
   "metadata": {},
   "outputs": [
    {
     "name": "stdout",
     "output_type": "stream",
     "text": [
      "(15179,)\n",
      "(20904,)\n"
     ]
    }
   ],
   "source": [
    "print df.serviceProvider.unique().shape\n",
    "print df.company.unique().shape\n",
    "companyList= df.company.unique()"
   ]
  },
  {
   "cell_type": "code",
   "execution_count": 5,
   "metadata": {},
   "outputs": [],
   "source": [
    "#https://www.quora.com/What-is-the-meaning-of-DM-TA-LM-DZ-MD-etc-in-the-name-of-bulk-sms-sender\n"
   ]
  },
  {
   "cell_type": "code",
   "execution_count": 6,
   "metadata": {},
   "outputs": [],
   "source": [
    "newlist=[]\n",
    "\n",
    "import re\n",
    "for x in companyList:\n",
    "    if x:\n",
    "        #print x\n",
    "        if x.isdigit():\n",
    "            newlist.append(x)\n",
    "        "
   ]
  },
  {
   "cell_type": "code",
   "execution_count": 7,
   "metadata": {},
   "outputs": [
    {
     "data": {
      "text/plain": [
       "6802"
      ]
     },
     "execution_count": 7,
     "metadata": {},
     "output_type": "execute_result"
    }
   ],
   "source": [
    "len(newlist)"
   ]
  },
  {
   "cell_type": "code",
   "execution_count": 8,
   "metadata": {},
   "outputs": [
    {
     "data": {
      "text/plain": [
       "False"
      ]
     },
     "execution_count": 8,
     "metadata": {},
     "output_type": "execute_result"
    }
   ],
   "source": [
    "df.isnull().values.any()"
   ]
  },
  {
   "cell_type": "code",
   "execution_count": 9,
   "metadata": {},
   "outputs": [],
   "source": [
    "#removing ads from the list\n",
    "df = df[~df['company'].isin(newlist)]"
   ]
  },
  {
   "cell_type": "code",
   "execution_count": 10,
   "metadata": {},
   "outputs": [
    {
     "name": "stdout",
     "output_type": "stream",
     "text": [
      "(14102,)\n"
     ]
    }
   ],
   "source": [
    "print df.company.unique().shape"
   ]
  },
  {
   "cell_type": "code",
   "execution_count": 11,
   "metadata": {},
   "outputs": [
    {
     "data": {
      "text/plain": [
       "company\n",
       "JioPay    78645\n",
       "IDEA      54215\n",
       "VFCARE    36707\n",
       "HDFCBK    27707\n",
       "ICICIB    16433\n",
       "AxisBk    15780\n",
       "PHONPE    13706\n",
       "iPaytm    13206\n",
       "IPAYTM    12522\n",
       "KOTAKB    10988\n",
       "JIONET    10343\n",
       "Amazon     8673\n",
       "BAJAJF     8602\n",
       "ATMSBI     8182\n",
       "MOBIKW     7663\n",
       "BajajF     7097\n",
       "SBICRD     6938\n",
       "FLPKRT     6456\n",
       "JIOINF     6448\n",
       "CBSSBI     6304\n",
       "JioSvc     5858\n",
       "SBIINB     5145\n",
       "SBIUPI     4995\n",
       "charge     4924\n",
       "CITIBK     4869\n",
       "PNBSMS     4867\n",
       "TFAROT     4817\n",
       "AIRBNK     4795\n",
       "PAYTMB     4743\n",
       "PAYZAP     4663\n",
       "          ...  \n",
       "PLOTLT        1\n",
       "FUDATU        1\n",
       "PLOTIN        1\n",
       "PLOTCH        1\n",
       "PLOTAF        1\n",
       "FULJOY        1\n",
       "FUNDAM        1\n",
       "FSTTME        1\n",
       "PMAWAS        1\n",
       "PMawas        1\n",
       "FSDHRY        1\n",
       "FROMWP        1\n",
       "PMYOJA        1\n",
       "FRSHTM        1\n",
       "FRSHUP        1\n",
       "FRSTSP        1\n",
       "PMYFLT        1\n",
       "PMSPRO        1\n",
       "FSAREE        1\n",
       "FSFAdm        1\n",
       "PMCARE        1\n",
       "PMSMAX        1\n",
       "PMRPYI        1\n",
       "PMKKWL        1\n",
       "FSRLTY        1\n",
       "PMITRA        1\n",
       "PMGNAY        1\n",
       "PMCPRD        1\n",
       "FSTCTY        1\n",
       " 2-Let        1\n",
       "Name: sms, Length: 14102, dtype: int64"
      ]
     },
     "execution_count": 11,
     "metadata": {},
     "output_type": "execute_result"
    }
   ],
   "source": [
    "df.groupby(df['company'])['sms'].count().sort_values(ascending=False)"
   ]
  },
  {
   "cell_type": "code",
   "execution_count": 15,
   "metadata": {},
   "outputs": [
    {
     "ename": "TypeError",
     "evalue": "unsupported operand type(s) for |: 'str' and 'str'",
     "output_type": "error",
     "traceback": [
      "\u001b[0;31m---------------------------------------------------------------------------\u001b[0m",
      "\u001b[0;31mTypeError\u001b[0m                                 Traceback (most recent call last)",
      "\u001b[0;32m<ipython-input-15-02be11092686>\u001b[0m in \u001b[0;36m<module>\u001b[0;34m()\u001b[0m\n\u001b[0;32m----> 1\u001b[0;31m \u001b[0mndf\u001b[0m\u001b[0;34m=\u001b[0m\u001b[0mdf\u001b[0m\u001b[0;34m[\u001b[0m\u001b[0mdf\u001b[0m\u001b[0;34m[\u001b[0m\u001b[0;34m'sms'\u001b[0m\u001b[0;34m]\u001b[0m\u001b[0;34m.\u001b[0m\u001b[0mstr\u001b[0m\u001b[0;34m.\u001b[0m\u001b[0mcontains\u001b[0m\u001b[0;34m(\u001b[0m\u001b[0;34m\" due \"\u001b[0m \u001b[0;34m|\u001b[0m \u001b[0;34m' pay '\u001b[0m\u001b[0;34m)\u001b[0m\u001b[0;34m]\u001b[0m\u001b[0;34m\u001b[0m\u001b[0m\n\u001b[0m\u001b[1;32m      2\u001b[0m \u001b[0mndf\u001b[0m\u001b[0;34m.\u001b[0m\u001b[0mshape\u001b[0m\u001b[0;34m\u001b[0m\u001b[0m\n\u001b[1;32m      3\u001b[0m \u001b[0mndf\u001b[0m\u001b[0;34m.\u001b[0m\u001b[0mcompany\u001b[0m\u001b[0;34m\u001b[0m\u001b[0m\n",
      "\u001b[0;31mTypeError\u001b[0m: unsupported operand type(s) for |: 'str' and 'str'"
     ]
    }
   ],
   "source": [
    "ndf=df[df['sms'].str.contains(\" due \" | ' pay ')]\n",
    "ndf.shape\n",
    "ndf.company"
   ]
  },
  {
   "cell_type": "code",
   "execution_count": 13,
   "metadata": {},
   "outputs": [
    {
     "name": "stdout",
     "output_type": "stream",
     "text": [
      "                                                      sms serviceProvider  \\\n",
      "248     Dear Customer , your AXIS Bank credit card XX ...              VM   \n",
      "348     Greetings, The SIP amount of Rs.2000 pertainin...              BW   \n",
      "378     Hello! Your Vodafone bill of Rs. 511.29 is due...              VD   \n",
      "413     Your DishTV connection is due for recharge! Gi...              VK   \n",
      "416     Dear Customer, your HDFC Bank Credit Card tran...              DM   \n",
      "527     Dear Customer, E-stmt for HDFCBank CreditCard ...              IM   \n",
      "574     Recharge of your VC No.01514204716 for 495 +15...              VK   \n",
      "619     Your Request 0000/00508/08366 has been rejecte...              VK   \n",
      "706     Dear Customer, please pay your bill for Rs.248...              IZ   \n",
      "737     Dear Customer, please pay your bill for Rs.248...              IZ   \n",
      "900     Dear Customer, E-stmt for HDFCBank CreditCard ...              IM   \n",
      "903     EPF Contribution of Rs. 7016 against UAN 10035...              VK   \n",
      "997     Dear Customer, E-stmt for HDFCBank CreditCard ...              RM   \n",
      "1004    Dont miss the due date. Filing Income Tax Retu...              VK   \n",
      "1006    Reminder! Today is the due date (extended) for...              DM   \n",
      "1011    DEAR CARDMEMBER,UR TITANIUM CREDIT CARD ENDING...              DZ   \n",
      "1054    Dear Customer, your Idea mobile bill for 21-JU...              Iz   \n",
      "1068    Your DishTV connection is due for recharge! Gi...              ID   \n",
      "1077    Your 26AS Statement for FY16-17 shows income r...              VM   \n",
      "1081    Recharge of your VC No.01514204716 for 482 +18...              VK   \n",
      "1095    EPF Contribution of Rs. 7016 against UAN 10035...              VM   \n",
      "1114    Your DishTV connection is due for recharge! Gi...              VM   \n",
      "1122    Dear Customer, E-stmt for HDFCBank CreditCard ...              IM   \n",
      "1129    Recharge of your VC No.01514204716 for 482 +18...              VM   \n",
      "1171    Your DishTV connection is due for recharge! Gi...              AD   \n",
      "1180    Dear Customer, your Idea mobile bill for 21-JU...              Iz   \n",
      "1856    Your next SIP installment is due on 10/06/2018...              AD   \n",
      "1871    Dear Customer, Recieved Rs 4043.0 towards Bill...              IM   \n",
      "1873    Greetings! EMI of Rs.3,359/- for Loan 4010PL21...              IM   \n",
      "1887    Dear Customer, EMI of Rs. 76395 for your Loan#...              VK   \n",
      "...                                                   ...             ...   \n",
      "997133  Dear Subscriber, Please be appraised that our ...              VK   \n",
      "997267  Greetings, The SIP amount of Rs.2000 pertainin...              BW   \n",
      "997546  Dear customer, your request could not be proce...              TL   \n",
      "997582  SIP installment of Rs 1000 in ABSL Frontline E...              HP   \n",
      "997827  SIP installment of Rs 1000 in ABSL Frontline E...              HP   \n",
      "997924  SIP installment of Rs 1000 in ABSL Frontline E...              VM   \n",
      "998063  SIP installment of Rs 1000 in ABSL Frontline E...              VK   \n",
      "998227  SIP installment of Rs 1000 in ABSL Frontline E...              HP   \n",
      "998364  SIP installment of Rs 1000 in ABSL Frontline E...              VM   \n",
      "998555  SIP installment of Rs 1000 in ABSL Frontline E...              DM   \n",
      "998872  Dear Consumer, your bill of Rs. 485.00 due on ...              AX   \n",
      "998873  Dear Consumer, your bill of Rs. 413.00 due on ...              AX   \n",
      "998874  Dear Consumer, your bill of Rs. 298.00 due on ...              AX   \n",
      "999213  Greetings! EMI of Rs.1,875/- for Loan 410SCE60...              VM   \n",
      "999214  Greetings! EMI of Rs.6,199/- for Loan 410DPF65...              VM   \n",
      "999247  Greetings! EMI of Rs.6,199 for loan a/c no.410...              VK   \n",
      "999248  Greetings! EMI of Rs.1,875 for loan a/c no.410...              VM   \n",
      "999512  Greetings! EMI of Rs.1,875/- for Loan 410SCE60...              VM   \n",
      "999513  Greetings! EMI of Rs.6,199/- for Loan 410DPF65...              VK   \n",
      "999575  Greetings! EMI of Rs.1,875 for loan a/c no.410...              VM   \n",
      "999579  First EMI of Rs.6,199 for loan a/c no.410DPF65...              VM   \n",
      "999691  We regret to inform you that your 456 eDGE Loy...              VM   \n",
      "999712  Dear Customer, Your Ticket no- 1001173243 has ...              TK   \n",
      "999727  Dear Customer,Periodic Service of your vehicle...              VK   \n",
      "999742  Axis eDGE Rewards: Your 456 Axis eDGE Reward p...              VK   \n",
      "999852  Greetings! EMI of Rs.1,875/- for Loan 410SCE60...              VM   \n",
      "999858  Greetings! EMI of Rs.1,875 for loan a/c no.410...              VK   \n",
      "999868  Greeting ! We request you to kindly ignore the...              VM   \n",
      "999872  First EMI of Rs.1,875 for loan a/c no.410SCE60...              VM   \n",
      "999965   Congrats on your new phone! Now, secure yours...              DM   \n",
      "\n",
      "       company  \n",
      "248     AxisBK  \n",
      "348     IPRUMF  \n",
      "378     VFCARE  \n",
      "413     DishTV  \n",
      "416     HDFCBK  \n",
      "527     HDFCBK  \n",
      "574     DishTV  \n",
      "619     ADHAAR  \n",
      "706       IDEA  \n",
      "737       IDEA  \n",
      "900     HDFCBK  \n",
      "903     EPFOHO  \n",
      "997     HDFCBK  \n",
      "1004    TaxSml  \n",
      "1006    TaxSml  \n",
      "1011    HDFCBK  \n",
      "1054      idea  \n",
      "1068    DishTV  \n",
      "1077    ITDEFL  \n",
      "1081    DishTV  \n",
      "1095    EPFOHO  \n",
      "1114    DishTV  \n",
      "1122    HDFCBK  \n",
      "1129    DishTV  \n",
      "1171    DishTV  \n",
      "1180      idea  \n",
      "1856    BPFund  \n",
      "1871    UPPCLT  \n",
      "1873    BAJAJF  \n",
      "1887    FICCLT  \n",
      "...        ...  \n",
      "997133  HATHWY  \n",
      "997267  IPRUMF  \n",
      "997546  FedBnk  \n",
      "997582  ABCINV  \n",
      "997827  ABCINV  \n",
      "997924  ABCINV  \n",
      "998063  ABCINV  \n",
      "998227  ABCINV  \n",
      "998364  ABCINV  \n",
      "998555  BSLAMC  \n",
      "998872  BESCOM  \n",
      "998873  BESCOM  \n",
      "998874  BESCOM  \n",
      "999213  BAJAJF  \n",
      "999214  BAJAJF  \n",
      "999247  BAJAJF  \n",
      "999248  BAJAJF  \n",
      "999512  BAJAJF  \n",
      "999513  BAJAJF  \n",
      "999575  BAJAJF  \n",
      "999579  BAJAJF  \n",
      "999691  AxisBk  \n",
      "999712  IFBCRM  \n",
      "999727  MSILDL  \n",
      "999742  AxisBk  \n",
      "999852  BAJAJF  \n",
      "999858  BAJAJF  \n",
      "999868  BAJAJF  \n",
      "999872  BAJAJF  \n",
      "999965  iPaytm  \n",
      "\n",
      "[16531 rows x 3 columns]\n"
     ]
    }
   ],
   "source": [
    "print ndf"
   ]
  },
  {
   "cell_type": "code",
   "execution_count": null,
   "metadata": {},
   "outputs": [],
   "source": [
    "6th Apr 2018"
   ]
  },
  {
   "cell_type": "code",
   "execution_count": null,
   "metadata": {},
   "outputs": [],
   "source": [
    "Rs. 538.14"
   ]
  },
  {
   "cell_type": "code",
   "execution_count": null,
   "metadata": {},
   "outputs": [],
   "source": []
  },
  {
   "cell_type": "code",
   "execution_count": null,
   "metadata": {},
   "outputs": [],
   "source": []
  },
  {
   "cell_type": "code",
   "execution_count": null,
   "metadata": {},
   "outputs": [],
   "source": []
  },
  {
   "cell_type": "code",
   "execution_count": null,
   "metadata": {},
   "outputs": [],
   "source": []
  },
  {
   "cell_type": "code",
   "execution_count": null,
   "metadata": {},
   "outputs": [],
   "source": []
  },
  {
   "cell_type": "code",
   "execution_count": null,
   "metadata": {},
   "outputs": [],
   "source": []
  },
  {
   "cell_type": "code",
   "execution_count": null,
   "metadata": {},
   "outputs": [],
   "source": []
  },
  {
   "cell_type": "code",
   "execution_count": null,
   "metadata": {},
   "outputs": [],
   "source": []
  }
 ],
 "metadata": {
  "kernelspec": {
   "display_name": "Python 2",
   "language": "python",
   "name": "python2"
  },
  "language_info": {
   "codemirror_mode": {
    "name": "ipython",
    "version": 2
   },
   "file_extension": ".py",
   "mimetype": "text/x-python",
   "name": "python",
   "nbconvert_exporter": "python",
   "pygments_lexer": "ipython2",
   "version": "2.7.12"
  }
 },
 "nbformat": 4,
 "nbformat_minor": 2
}
